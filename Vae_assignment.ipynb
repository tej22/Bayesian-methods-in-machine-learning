{
  "nbformat": 4,
  "nbformat_minor": 0,
  "metadata": {
    "colab": {
      "name": "Copy of Vae_assignment.ipynb",
      "provenance": [],
      "collapsed_sections": []
    },
    "kernelspec": {
      "name": "python3",
      "display_name": "Python 3"
    },
    "accelerator": "GPU"
  },
  "cells": [
    {
      "cell_type": "markdown",
      "metadata": {
        "id": "G233yNiDOnLp",
        "colab_type": "text"
      },
      "source": [
        "# First things first\n",
        "* Click **File -> Save a copy in Drive** and click **Open in new tab** in the pop-up window to save your progress in Google Drive.\n",
        "* Click **Runtime -> Change runtime type** and select **GPU** in Hardware accelerator box to enable faster GPU training."
      ]
    },
    {
      "cell_type": "markdown",
      "metadata": {
        "id": "74KEu1L8OnLq",
        "colab_type": "text"
      },
      "source": [
        "# Variational Autoencoder"
      ]
    },
    {
      "cell_type": "markdown",
      "metadata": {
        "id": "r94_BRA-OnLr",
        "colab_type": "text"
      },
      "source": [
        "In this assignment, you will build Variational Autoencoder, train it on the MNIST dataset, and play with its architecture and hyperparameters."
      ]
    },
    {
      "cell_type": "markdown",
      "metadata": {
        "id": "LyLQLqBcOnLt",
        "colab_type": "text"
      },
      "source": [
        "### Setup\n",
        "Loading auxiliary files and importing the necessary libraries."
      ]
    },
    {
      "cell_type": "code",
      "metadata": {
        "id": "naC94KtXOnLt",
        "colab_type": "code",
        "colab": {
          "base_uri": "https://localhost:8080/",
          "height": 274
        },
        "outputId": "7f54b26e-07b9-40ab-cf80-5c4e4cbc1c26"
      },
      "source": [
        "try:\n",
        "    import google.colab\n",
        "    IN_COLAB = True\n",
        "except:\n",
        "    IN_COLAB = False\n",
        "if IN_COLAB:\n",
        "    print(\"Downloading Colab files\")\n",
        "    ! shred -u setup_google_colab.py\n",
        "    ! wget https://raw.githubusercontent.com/hse-aml/bayesian-methods-for-ml/master/setup_google_colab.py -O setup_google_colab.py\n",
        "    import setup_google_colab\n",
        "    setup_google_colab.load_data_week5()"
      ],
      "execution_count": 125,
      "outputs": [
        {
          "output_type": "stream",
          "text": [
            "Downloading Colab files\n",
            "--2020-01-23 16:21:36--  https://raw.githubusercontent.com/hse-aml/bayesian-methods-for-ml/master/setup_google_colab.py\n",
            "Resolving raw.githubusercontent.com (raw.githubusercontent.com)... 151.101.0.133, 151.101.64.133, 151.101.128.133, ...\n",
            "Connecting to raw.githubusercontent.com (raw.githubusercontent.com)|151.101.0.133|:443... connected.\n",
            "HTTP request sent, awaiting response... 200 OK\n",
            "Length: 1254 (1.2K) [text/plain]\n",
            "Saving to: ‘setup_google_colab.py’\n",
            "\n",
            "setup_google_colab. 100%[===================>]   1.22K  --.-KB/s    in 0s      \n",
            "\n",
            "2020-01-23 16:21:36 (215 MB/s) - ‘setup_google_colab.py’ saved [1254/1254]\n",
            "\n",
            "https://raw.githubusercontent.com/hse-aml/bayesian-methods-for-ml/master/week5/w5_grader.py w5_grader.py\n",
            "https://raw.githubusercontent.com/hse-aml/bayesian-methods-for-ml/master/week5/test_data.npz test_data.npz\n"
          ],
          "name": "stdout"
        }
      ]
    },
    {
      "cell_type": "code",
      "metadata": {
        "id": "H-hJ6_wBOnLz",
        "colab_type": "code",
        "colab": {}
      },
      "source": [
        "import tensorflow as tf\n",
        "import keras\n",
        "import numpy as np\n",
        "import matplotlib.pyplot as plt\n",
        "\n",
        "from keras.layers import Input, Dense, Lambda, InputLayer, concatenate\n",
        "from keras.models import Model, Sequential\n",
        "from keras import backend as K\n",
        "from keras import metrics\n",
        "from keras.datasets import mnist\n",
        "from keras.utils import np_utils\n",
        "from w5_grader import VAEGrader"
      ],
      "execution_count": 0,
      "outputs": []
    },
    {
      "cell_type": "markdown",
      "metadata": {
        "id": "KyZf9DsOOnL2",
        "colab_type": "text"
      },
      "source": [
        "### Grading\n",
        "We will create a grader instance below and use it to collect your answers. Note that these outputs will be stored locally inside grader and will be uploaded to the platform only after running submit function in the last part of this assignment. If you want to make a partial submission, you can run that cell anytime you want."
      ]
    },
    {
      "cell_type": "code",
      "metadata": {
        "id": "V5D7sEDBOnL3",
        "colab_type": "code",
        "colab": {}
      },
      "source": [
        "grader = VAEGrader()"
      ],
      "execution_count": 0,
      "outputs": []
    },
    {
      "cell_type": "markdown",
      "metadata": {
        "id": "RnkOQUeSOnL5",
        "colab_type": "text"
      },
      "source": [
        "### Variational Autoencoder"
      ]
    },
    {
      "cell_type": "markdown",
      "metadata": {
        "id": "GmV9OxiIOnL7",
        "colab_type": "text"
      },
      "source": [
        "Recall that Variational Autoencoder is a probabilistic model of data based on a continious mixture of distributions. In the lecture we covered the mixture of gaussians case, but here we will apply VAE to binary MNIST images (each pixel is either black or white). To better model binary data we will use a continuous mixture of binomial distributions: $p(x \\mid w) = \\int p(x \\mid t, w) p(t) dt$, where the prior distribution on the latent code $t$ is standard normal $p(t) = \\mathcal{N}(0, I)$, but probability that $(i, j)$-th pixel is black equals to $(i, j)$-th output of the decoder neural detwork: $p(x_{i, j} \\mid t, w) = \\text{decoder}(t, w)_{i, j}$.\n",
        "\n",
        "To train this model we would like to maximize marginal log-likelihood of our dataset $\\max_w \\log p(X \\mid w)$, but it's very hard to do computationally, so instead we maximize the Variational Lower Bound w.r.t. both the original parameters $w$ and variational distribution $q$ which we define as encoder neural network with parameters $\\phi$ which takes input image $x$ and outputs parameters of the gaussian distribution $q(t \\mid x, \\phi)$: $\\log p(X \\mid w) \\geq \\mathcal{L}(w, \\phi) \\rightarrow \\max_{w, \\phi}$.\n",
        "\n",
        "So overall our model looks as follows: encoder takes an image $x$, produces a distribution over latent codes $q(t \\mid x)$ which should approximate the posterior distribution $p(t \\mid x)$ (at least after training), samples a point from this distribution $\\widehat{t} \\sim q(t \\mid x, \\phi)$, and finally feeds it into a decoder that outputs a distribution over images.\n",
        "\n",
        "![](https://github.com/hse-aml/bayesian-methods-for-ml/blob/master/week5/VAE.png?raw=1)\n",
        "\n",
        "In the lecture, we also discussed that variational lower bound has an expected value inside which we are going to approximate with sampling. But it is not trivial since we need to differentiate through this approximation. However, we learned about _reparametrization trick_ which suggests instead of sampling from distribution $\\widehat{t} \\sim q(t \\mid x, \\phi)$ sample from a distribution which doesn't depend on any parameters, e.g. standard normal, and then deterministically transform this sample to the desired one: $\\varepsilon \\sim \\mathcal{N}(0, I); ~~\\widehat{t} = m(x, \\phi) + \\varepsilon \\sigma(x, \\phi)$. This way we don't have to worry about our stochastic gradient being biased and can straightforwardly differentiate our loss w.r.t. all the parameters while treating the current sample $\\varepsilon$ as constant.\n",
        "\n",
        "\n"
      ]
    },
    {
      "cell_type": "markdown",
      "metadata": {
        "id": "fVszOw7ROnL8",
        "colab_type": "text"
      },
      "source": [
        "### Negative Variational Lower Bound"
      ]
    },
    {
      "cell_type": "markdown",
      "metadata": {
        "id": "aRMMKLiGOnL9",
        "colab_type": "text"
      },
      "source": [
        "**Task 1** Derive and implement Variational Lower Bound for the continuous mixture of Binomial distributions.\n",
        "\n",
        "**Note** that in lectures we discussed maximizing the VLB (which is typically a negative number), but in this assignment, for convenience, we will **minimize** the **negated** version of VLB (which will be a positive number) instead of maximizing the usual VLB. In what follows we always talk about _negated_ VLB, even when we use the term VLB for short.\n",
        "\n",
        "**Also note** that to pass the test, your code should work with any mini-batch size.\n",
        "\n",
        "To do that, we need a stochastic estimate of VLB: \n",
        "$$\\text{VLB} = \\sum_{i=1}^N \\text{VLB}_i \\approx \\frac{N}{M}\\sum_{i_s}^M \\text{VLB}_{i_s}$$\n",
        "where $N$ is the dataset size, $\\text{VLB}_i$ is the term of VLB corresponding to the $i$-th object, and $M$ is the mini-batch size. But instead of this stochastic estimate of the full VLB we will use an estimate of the negated VLB normalized by the dataset size, i.e. in the function below you need to return average across the mini-batch $-\\frac{1}{M}\\sum_{i_s}^M \\text{VLB}_{i_s}$. People usually optimize this normalized version of VLB since it doesn't depend on the dataset set - you can write VLB function once and use it for different datasets - the dataset size won't affect the learning rate too much. The correct value for this normalized negated VLB should be around $100 - 170$ in the example below."
      ]
    },
    {
      "cell_type": "code",
      "metadata": {
        "id": "OwynsmjaOnL-",
        "colab_type": "code",
        "colab": {}
      },
      "source": [
        "def vlb_binomial(x, x_decoded_mean, t_mean, t_log_var):\n",
        "    \"\"\"Returns the value of negative Variational Lower Bound\n",
        "    \n",
        "    The inputs are tf.Tensor\n",
        "        x: (batch_size x number_of_pixels) matrix with one image per row with zeros and ones\n",
        "        x_decoded_mean: (batch_size x number_of_pixels) mean of the distribution p(x | t), real numbers from 0 to 1\n",
        "        t_mean: (batch_size x latent_dim) mean vector of the (normal) distribution q(t | x)\n",
        "        t_log_var: (batch_size x latent_dim) logarithm of the variance vector of the (normal) distribution q(t | x)\n",
        "    \n",
        "    Returns:\n",
        "        A tf.Tensor with one element (averaged across the batch), VLB\n",
        "    \"\"\"\n",
        "    ### YOUR CODE HERE\n",
        "    kl = 0.5 * K.sum(K.exp(t_log_var) + K.square(t_mean) - 1. - t_log_var, axis=1)\n",
        "    recon = K.sum(K.binary_crossentropy(x, x_decoded_mean), axis=1)\n",
        "    vlb = K.mean(kl + recon)\n",
        "    \n",
        "    \n",
        "    return vlb"
      ],
      "execution_count": 0,
      "outputs": []
    },
    {
      "cell_type": "code",
      "metadata": {
        "id": "dpZjbDz0OnMA",
        "colab_type": "code",
        "colab": {
          "base_uri": "https://localhost:8080/",
          "height": 74
        },
        "outputId": "18891111-5b84-4797-f37c-dc9f4cd3b5b6"
      },
      "source": [
        "# Start tf session so we can run code.\n",
        "sess = tf.InteractiveSession()\n",
        "# Connect keras to the created session.\n",
        "K.set_session(sess)"
      ],
      "execution_count": 129,
      "outputs": [
        {
          "output_type": "stream",
          "text": [
            "/usr/local/lib/python3.6/dist-packages/tensorflow_core/python/client/session.py:1750: UserWarning: An interactive session is already active. This can cause out-of-memory errors in some cases. You must explicitly call `InteractiveSession.close()` to release resources held by the other session(s).\n",
            "  warnings.warn('An interactive session is already active. This can '\n"
          ],
          "name": "stderr"
        }
      ]
    },
    {
      "cell_type": "code",
      "metadata": {
        "id": "sJoWFRnDOnMF",
        "colab_type": "code",
        "colab": {
          "base_uri": "https://localhost:8080/",
          "height": 35
        },
        "outputId": "4a8db403-adc8-4d54-f7b8-3cecbae5bb4c"
      },
      "source": [
        "grader.submit_vlb(sess, vlb_binomial)"
      ],
      "execution_count": 130,
      "outputs": [
        {
          "output_type": "stream",
          "text": [
            "Current answer for task 1 (vlb) is: 157.59676\n"
          ],
          "name": "stdout"
        }
      ]
    },
    {
      "cell_type": "markdown",
      "metadata": {
        "id": "JIajOY9bOnMK",
        "colab_type": "text"
      },
      "source": [
        "## Encoder / decoder definition"
      ]
    },
    {
      "cell_type": "markdown",
      "metadata": {
        "id": "agpMFTzKOnML",
        "colab_type": "text"
      },
      "source": [
        "**Task 2** Read the code below that defines encoder and decoder networks and implement sampling with reparametrization trick in the provided space."
      ]
    },
    {
      "cell_type": "code",
      "metadata": {
        "id": "uY_dcGHmOnML",
        "colab_type": "code",
        "colab": {}
      },
      "source": [
        "batch_size = 100\n",
        "original_dim = 784 # Number of pixels in MNIST images.\n",
        "latent_dim = 50 # d, dimensionality of the latent code t.\n",
        "intermediate_dim = 256 # Size of the hidden layer.\n",
        "epochs = 30\n",
        "\n",
        "x = Input(batch_shape=(batch_size, original_dim))\n",
        "def create_encoder(input_dim):\n",
        "    # Encoder network.\n",
        "    # We instantiate these layers separately so as to reuse them later\n",
        "    encoder = Sequential(name='encoder')\n",
        "    encoder.add(InputLayer([input_dim]))\n",
        "    encoder.add(Dense(intermediate_dim, activation='relu'))\n",
        "    encoder.add(Dense(2 * latent_dim))\n",
        "    return encoder\n",
        "encoder = create_encoder(original_dim)\n",
        "\n",
        "get_t_mean = Lambda(lambda h: h[:, :latent_dim])\n",
        "get_t_log_var = Lambda(lambda h: h[:, latent_dim:])\n",
        "h = encoder(x)\n",
        "t_mean = get_t_mean(h)\n",
        "t_log_var = get_t_log_var(h)\n",
        "\n",
        "# Sampling from the distribution \n",
        "#     q(t | x) = N(t_mean, exp(t_log_var))\n",
        "# with reparametrization trick.\n",
        "def sampling(args):\n",
        "    \"\"\"Returns sample from a distribution N(args[0], diag(args[1]))\n",
        "    \n",
        "    The sample should be computed with reparametrization trick.\n",
        "    \n",
        "    The inputs are tf.Tensor\n",
        "        args[0]: (batch_size x latent_dim) mean of the desired distribution\n",
        "        args[1]: (batch_size x latent_dim) logarithm of the variance vector of the desired distribution\n",
        "    \n",
        "    Returns:\n",
        "        A tf.Tensor of size (batch_size x latent_dim), the samples.\n",
        "    \"\"\"\n",
        "    t_mean, t_log_var = args\n",
        "    # YOUR CODE HERE\n",
        "    epsilon = tf.random_normal(t_mean.shape) #(t_mean.get_shape())\n",
        "    z = epsilon * tf.exp(0.5 * t_log_var) + t_mean\n",
        "    return z\n",
        "\n",
        "t = Lambda(sampling)([t_mean, t_log_var])\n",
        "\n",
        "def create_decoder(input_dim):\n",
        "    # Decoder network\n",
        "    # We instantiate these layers separately so as to reuse them later\n",
        "    decoder = Sequential(name='decoder')\n",
        "    decoder.add(InputLayer([input_dim]))\n",
        "    decoder.add(Dense(intermediate_dim, activation='relu'))\n",
        "    decoder.add(Dense(original_dim, activation='sigmoid'))\n",
        "    return decoder\n",
        "decoder = create_decoder(latent_dim)\n",
        "x_decoded_mean = decoder(t)"
      ],
      "execution_count": 0,
      "outputs": []
    },
    {
      "cell_type": "code",
      "metadata": {
        "id": "YXhY1G7POnMN",
        "colab_type": "code",
        "colab": {
          "base_uri": "https://localhost:8080/",
          "height": 54
        },
        "outputId": "fba6da16-4584-418e-c540-4080a3bd4880"
      },
      "source": [
        "grader.submit_samples(sess, sampling)"
      ],
      "execution_count": 132,
      "outputs": [
        {
          "output_type": "stream",
          "text": [
            "Current answer for task 2.1 (samples mean) is: -0.11949712\n",
            "Current answer for task 2.2 (samples var) is: 0.0363119\n"
          ],
          "name": "stdout"
        }
      ]
    },
    {
      "cell_type": "markdown",
      "metadata": {
        "id": "nktDqnapOnMS",
        "colab_type": "text"
      },
      "source": [
        "## Training the model"
      ]
    },
    {
      "cell_type": "markdown",
      "metadata": {
        "id": "Bcs69AvMOnMT",
        "colab_type": "text"
      },
      "source": [
        "**Task 3** Run the cells below to train the model with the default settings. Modify the parameters to get better results. Especially pay attention to the encoder/decoder architectures (e.g. using more layers, maybe making them convolutional), learning rate, and the number of epochs."
      ]
    },
    {
      "cell_type": "code",
      "metadata": {
        "id": "ZC2LPovUOnMU",
        "colab_type": "code",
        "colab": {}
      },
      "source": [
        "loss = vlb_binomial(x, x_decoded_mean, t_mean, t_log_var)\n",
        "vae = Model(x, x_decoded_mean)\n",
        "# Keras will provide input (x) and output (x_decoded_mean) to the function that\n",
        "# should construct loss, but since our function also depends on other\n",
        "# things (e.g. t_means), it is easier to build the loss in advance and pass\n",
        "# a function that always returns it.\n",
        "vae.compile(optimizer=keras.optimizers.RMSprop(lr=0.001), loss=lambda x, y: loss)"
      ],
      "execution_count": 0,
      "outputs": []
    },
    {
      "cell_type": "markdown",
      "metadata": {
        "id": "SVJQG9l4OnMY",
        "colab_type": "text"
      },
      "source": [
        "#### Load and prepare the data"
      ]
    },
    {
      "cell_type": "code",
      "metadata": {
        "id": "AS79kH0VOnMZ",
        "colab_type": "code",
        "colab": {}
      },
      "source": [
        "# train the VAE on MNIST digits\n",
        "(x_train, y_train), (x_test, y_test) = mnist.load_data()\n",
        "# One hot encoding.\n",
        "y_train = np_utils.to_categorical(y_train)\n",
        "y_test = np_utils.to_categorical(y_test)\n",
        "\n",
        "x_train = x_train.astype('float32') / 255.\n",
        "x_test = x_test.astype('float32') / 255.\n",
        "x_train = x_train.reshape((len(x_train), np.prod(x_train.shape[1:])))\n",
        "x_test = x_test.reshape((len(x_test), np.prod(x_test.shape[1:])))"
      ],
      "execution_count": 0,
      "outputs": []
    },
    {
      "cell_type": "markdown",
      "metadata": {
        "id": "EnWfL2xrOnMb",
        "colab_type": "text"
      },
      "source": [
        "#### Train the model"
      ]
    },
    {
      "cell_type": "code",
      "metadata": {
        "id": "J_-zXvnpOnMc",
        "colab_type": "code",
        "colab": {
          "base_uri": "https://localhost:8080/",
          "height": 1000
        },
        "outputId": "affa3cad-4f15-4749-9179-9b859fbce31c"
      },
      "source": [
        "hist = vae.fit(x=x_train, y=x_train,\n",
        "               shuffle=True,\n",
        "               epochs=epochs,\n",
        "               batch_size=batch_size,\n",
        "               validation_data=(x_test, x_test),\n",
        "               verbose=2)"
      ],
      "execution_count": 135,
      "outputs": [
        {
          "output_type": "stream",
          "text": [
            "Train on 60000 samples, validate on 10000 samples\n",
            "Epoch 1/30\n",
            " - 3s - loss: 161.2891 - val_loss: 135.1942\n",
            "Epoch 2/30\n",
            " - 2s - loss: 129.9769 - val_loss: 123.9592\n",
            "Epoch 3/30\n",
            " - 2s - loss: 121.3427 - val_loss: 117.2360\n",
            "Epoch 4/30\n",
            " - 2s - loss: 116.6590 - val_loss: 113.5057\n",
            "Epoch 5/30\n",
            " - 2s - loss: 113.8686 - val_loss: 111.8762\n",
            "Epoch 6/30\n",
            " - 2s - loss: 112.1670 - val_loss: 111.3047\n",
            "Epoch 7/30\n",
            " - 2s - loss: 110.9536 - val_loss: 110.4750\n",
            "Epoch 8/30\n",
            " - 2s - loss: 110.0400 - val_loss: 108.9471\n",
            "Epoch 9/30\n",
            " - 2s - loss: 109.4190 - val_loss: 108.5585\n",
            "Epoch 10/30\n",
            " - 2s - loss: 108.9342 - val_loss: 108.1527\n",
            "Epoch 11/30\n",
            " - 2s - loss: 108.4980 - val_loss: 108.3802\n",
            "Epoch 12/30\n",
            " - 2s - loss: 108.1431 - val_loss: 107.0303\n",
            "Epoch 13/30\n",
            " - 2s - loss: 107.8289 - val_loss: 106.9189\n",
            "Epoch 14/30\n",
            " - 2s - loss: 107.5938 - val_loss: 107.7456\n",
            "Epoch 15/30\n",
            " - 2s - loss: 107.3243 - val_loss: 106.7919\n",
            "Epoch 16/30\n",
            " - 2s - loss: 107.1653 - val_loss: 106.3085\n",
            "Epoch 17/30\n",
            " - 2s - loss: 106.9256 - val_loss: 106.1069\n",
            "Epoch 18/30\n",
            " - 2s - loss: 106.8757 - val_loss: 106.5127\n",
            "Epoch 19/30\n",
            " - 2s - loss: 106.6929 - val_loss: 106.0039\n",
            "Epoch 20/30\n",
            " - 2s - loss: 106.5499 - val_loss: 105.8731\n",
            "Epoch 21/30\n",
            " - 2s - loss: 106.3691 - val_loss: 105.6193\n",
            "Epoch 22/30\n",
            " - 2s - loss: 106.2137 - val_loss: 106.7248\n",
            "Epoch 23/30\n",
            " - 2s - loss: 106.1708 - val_loss: 105.9860\n",
            "Epoch 24/30\n",
            " - 2s - loss: 106.0680 - val_loss: 105.9372\n",
            "Epoch 25/30\n",
            " - 2s - loss: 105.9630 - val_loss: 105.4596\n",
            "Epoch 26/30\n",
            " - 2s - loss: 105.8514 - val_loss: 105.3909\n",
            "Epoch 27/30\n",
            " - 2s - loss: 105.7881 - val_loss: 105.3073\n",
            "Epoch 28/30\n",
            " - 2s - loss: 105.6794 - val_loss: 105.4181\n",
            "Epoch 29/30\n",
            " - 2s - loss: 105.6228 - val_loss: 105.6080\n",
            "Epoch 30/30\n",
            " - 2s - loss: 105.4907 - val_loss: 104.7645\n"
          ],
          "name": "stdout"
        }
      ]
    },
    {
      "cell_type": "markdown",
      "metadata": {
        "id": "FdjnEbpkOnMf",
        "colab_type": "text"
      },
      "source": [
        "### Visualize reconstructions for train and validation data\n",
        "In the picture below you can see the reconstruction ability of your network on training and validation data. In each of the two images, the left column is MNIST images and the right column is the corresponding image after passing through autoencoder (or more precisely the mean of the binomial distribution over the output images).\n",
        "\n",
        "Note that getting the best possible reconstruction is not the point of VAE, the KL term of the objective specifically hurts the reconstruction performance. But the reconstruction should be anyway reasonable and they provide a visual debugging tool."
      ]
    },
    {
      "cell_type": "code",
      "metadata": {
        "id": "sDAjZV_kOnMf",
        "colab_type": "code",
        "colab": {
          "base_uri": "https://localhost:8080/",
          "height": 591
        },
        "outputId": "371887ae-bb63-4b50-acb6-7c6e18810208"
      },
      "source": [
        "fig = plt.figure(figsize=(10, 10))\n",
        "for fid_idx, (data, title) in enumerate(\n",
        "            zip([x_train, x_test], ['Train', 'Validation'])):\n",
        "    n = 10  # figure with 10 x 2 digits\n",
        "    digit_size = 28\n",
        "    figure = np.zeros((digit_size * n, digit_size * 2))\n",
        "    decoded = sess.run(x_decoded_mean, feed_dict={x: data[:batch_size, :]})\n",
        "    for i in range(10):\n",
        "        figure[i * digit_size: (i + 1) * digit_size,\n",
        "               :digit_size] = data[i, :].reshape(digit_size, digit_size)\n",
        "        figure[i * digit_size: (i + 1) * digit_size,\n",
        "               digit_size:] = decoded[i, :].reshape(digit_size, digit_size)\n",
        "    ax = fig.add_subplot(1, 2, fid_idx + 1)\n",
        "    ax.imshow(figure, cmap='Greys_r')\n",
        "    ax.set_title(title)\n",
        "    ax.axis('off')\n",
        "plt.show()"
      ],
      "execution_count": 136,
      "outputs": [
        {
          "output_type": "display_data",
          "data": {
            "image/png": "[encoded data removed]",
            "text/plain": [
              "<Figure size 720x720 with 2 Axes>"
            ]
          },
          "metadata": {
            "tags": []
          }
        }
      ]
    },
    {
      "cell_type": "markdown",
      "metadata": {
        "collapsed": true,
        "id": "95lpEe2cOnMi",
        "colab_type": "text"
      },
      "source": [
        "### Sending the results of your best model as Task 3 submission"
      ]
    },
    {
      "cell_type": "code",
      "metadata": {
        "id": "KudUfupuOnMi",
        "colab_type": "code",
        "colab": {
          "base_uri": "https://localhost:8080/",
          "height": 35
        },
        "outputId": "9ebf81c2-c071-4005-f7be-e249cd6babf7"
      },
      "source": [
        "grader.submit_best_val_loss(hist)"
      ],
      "execution_count": 137,
      "outputs": [
        {
          "output_type": "stream",
          "text": [
            "Current answer for task 3 (best val loss) is: 104.76454490661621\n"
          ],
          "name": "stdout"
        }
      ]
    },
    {
      "cell_type": "markdown",
      "metadata": {
        "id": "WEclzA3WOnMk",
        "colab_type": "text"
      },
      "source": [
        "## Hallucinating new data\n",
        "**Task 4** Write code to generate new samples of images from your trained VAE. To do that you have to sample from the prior distribution $p(t)$ and then from the likelihood $p(x \\mid t)$.\n",
        "\n",
        "**Note** that the sampling you've written in Task 2 was for the variational distribution $q(t \\mid x)$, while here you need to sample from the prior."
      ]
    },
    {
      "cell_type": "code",
      "metadata": {
        "id": "jGLqzZD4OnMm",
        "colab_type": "code",
        "colab": {}
      },
      "source": [
        "n_samples = 10  # To pass automatic grading please use at least 2 samples here.\n",
        "# YOUR CODE HERE.\n",
        "# ...\n",
        "# sampled_im_mean is a tf.Tensor of size 10 x 784 with 10 random\n",
        "# images sampled from the vae model.\n",
        "sampled_im_mean = decoder(tf.random_normal((n_samples,latent_dim)))"
      ],
      "execution_count": 0,
      "outputs": []
    },
    {
      "cell_type": "code",
      "metadata": {
        "id": "1Lzh_yW0OnMo",
        "colab_type": "code",
        "colab": {
          "base_uri": "https://localhost:8080/",
          "height": 165
        },
        "outputId": "a2531e0b-ee3a-4912-828c-d55a4155d144"
      },
      "source": [
        "sampled_im_mean_np = sess.run(sampled_im_mean)\n",
        "# Show the sampled images.\n",
        "plt.figure()\n",
        "for i in range(n_samples):\n",
        "    ax = plt.subplot(n_samples // 5 + 1, 5, i + 1)\n",
        "    plt.imshow(sampled_im_mean_np[i, :].reshape(28, 28), cmap='gray')\n",
        "    ax.axis('off')\n",
        "plt.show()"
      ],
      "execution_count": 139,
      "outputs": [
        {
          "output_type": "display_data",
          "data": {
            "image/png": "[encoded data removed]",
            "text/plain": [
              "<Figure size 432x288 with 10 Axes>"
            ]
          },
          "metadata": {
            "tags": []
          }
        }
      ]
    },
    {
      "cell_type": "code",
      "metadata": {
        "id": "6bqdpVNUOnMq",
        "colab_type": "code",
        "colab": {
          "base_uri": "https://localhost:8080/",
          "height": 54
        },
        "outputId": "cc05d51d-b40b-4475-a54e-43e0e0d31b7a"
      },
      "source": [
        "grader.submit_hallucinating(sess, sampled_im_mean)"
      ],
      "execution_count": 140,
      "outputs": [
        {
          "output_type": "stream",
          "text": [
            "Current answer for task 4.1 (hallucinating mean) is: 0.09851146\n",
            "Current answer for task 4.2 (hallucinating var) is: 0.16355102\n"
          ],
          "name": "stdout"
        }
      ]
    },
    {
      "cell_type": "markdown",
      "metadata": {
        "id": "VMuhWEYBOnMt",
        "colab_type": "text"
      },
      "source": [
        "# Conditional VAE"
      ]
    },
    {
      "cell_type": "markdown",
      "metadata": {
        "id": "ly1YYFktOnMu",
        "colab_type": "text"
      },
      "source": [
        "In the final task, you will modify your code to obtain Conditional Variational Autoencoder [1]. The idea is very simple: to be able to control the samples you generate, we condition all the distributions on some additional information. In our case, this additional information will be the class label (the digit on the image, from 0 to 9).\n",
        "\n",
        "![](https://github.com/hse-aml/bayesian-methods-for-ml/blob/master/week5/CVAE.png?raw=1)\n",
        "\n",
        "So now both the likelihood and the variational distributions are conditioned on the class label: $p(x \\mid t, \\text{label}, w)$, $q(t \\mid x, \\text{label}, \\phi)$.\n",
        "\n",
        "The only thing you have to change in your code is to concatenate input image $x$ with (one-hot) label of this image to pass into the encoder $q$ and to concatenate latent code $t$ with the same label to pass into the decoder $p$. Note that it's slightly harder to do with convolutional encoder/decoder model.\n",
        "\n",
        "[1] Sohn, Kihyuk, Honglak Lee, and Xinchen Yan. “Learning Structured Output Representation using Deep Conditional Generative Models.” Advances in Neural Information Processing Systems. 2015."
      ]
    },
    {
      "cell_type": "markdown",
      "metadata": {
        "id": "o6nvfNt0OnMv",
        "colab_type": "text"
      },
      "source": [
        "## Final task"
      ]
    },
    {
      "cell_type": "markdown",
      "metadata": {
        "id": "Tbk2ICH-OnMw",
        "colab_type": "text"
      },
      "source": [
        "**Task 5.1** Implement CVAE model. You may reuse ```create_encoder``` and ```create_decoder``` modules defined previously (now you can see why they accept the input size as an argument ;) ). You may also need `concatenate` Keras layer to concatenate labels with input data and latent code.\n",
        "\n",
        "To finish this task, you should go to `Conditionally hallucinate data` section and find there Task 5.2"
      ]
    },
    {
      "cell_type": "code",
      "metadata": {
        "id": "BxgJjuAhOnMw",
        "colab_type": "code",
        "colab": {}
      },
      "source": [
        "# One-hot labels placeholder.\n",
        "x = Input(batch_shape=(batch_size, original_dim))\n",
        "label = Input(batch_shape=(batch_size, 10))\n",
        "\n",
        "# YOUR CODE HERE.\n",
        "#cond_t_mean =  # Mean of the latent code (without label) for cvae model.\n",
        "#cond_t_log_var = # Logarithm of the variance of the latent code (without label) for cvae model.\n",
        "#cond_x_decoded_mean =  # Final output of the cvae model.\n",
        "\n",
        "cond_encoder = create_encoder(original_dim+10)\n",
        "cond_h = cond_encoder(concatenate([x, label]))\n",
        "\n",
        "cond_t_mean = get_t_mean(cond_h)  # Mean of the latent code (without label) for cvae model.\n",
        "cond_t_log_var = get_t_log_var(cond_h) # Logarithm of the variance of the latent code (without label) for cvae model.\n",
        "\n",
        "cond_t = Lambda(sampling)([cond_t_mean, cond_t_log_var])\n",
        "cond_decoder = create_decoder(latent_dim+10)\n",
        "cond_x_decoded_mean = cond_decoder(concatenate([cond_t, label])) # Final output of the cvae model.\n",
        "\n"
      ],
      "execution_count": 0,
      "outputs": []
    },
    {
      "cell_type": "markdown",
      "metadata": {
        "id": "I49rDcnrOnMy",
        "colab_type": "text"
      },
      "source": [
        "## Define the loss and the model"
      ]
    },
    {
      "cell_type": "code",
      "metadata": {
        "id": "Y1NvnF9yOnMz",
        "colab_type": "code",
        "colab": {}
      },
      "source": [
        "conditional_loss = vlb_binomial(x, cond_x_decoded_mean, cond_t_mean, cond_t_log_var)\n",
        "cvae = Model([x, label], cond_x_decoded_mean)\n",
        "cvae.compile(optimizer=keras.optimizers.RMSprop(lr=0.001), loss=lambda x, y: conditional_loss)"
      ],
      "execution_count": 0,
      "outputs": []
    },
    {
      "cell_type": "markdown",
      "metadata": {
        "id": "S9Jy93oNOnM0",
        "colab_type": "text"
      },
      "source": [
        "### Train the model"
      ]
    },
    {
      "cell_type": "code",
      "metadata": {
        "id": "Hz9X7fVNOnM0",
        "colab_type": "code",
        "colab": {
          "base_uri": "https://localhost:8080/",
          "height": 1000
        },
        "outputId": "74f22158-bb09-4fe2-979a-cd1c2cff4650"
      },
      "source": [
        "hist = cvae.fit(x=[x_train, y_train],\n",
        "                y=x_train,\n",
        "                shuffle=True,\n",
        "                epochs=epochs,\n",
        "                batch_size=batch_size,\n",
        "                validation_data=([x_test, y_test], x_test),\n",
        "                verbose=2)"
      ],
      "execution_count": 143,
      "outputs": [
        {
          "output_type": "stream",
          "text": [
            "Train on 60000 samples, validate on 10000 samples\n",
            "Epoch 1/30\n",
            " - 3s - loss: 159.2738 - val_loss: 132.1527\n",
            "Epoch 2/30\n",
            " - 2s - loss: 126.5895 - val_loss: 119.8788\n",
            "Epoch 3/30\n",
            " - 2s - loss: 117.9189 - val_loss: 113.4231\n",
            "Epoch 4/30\n",
            " - 2s - loss: 113.3604 - val_loss: 112.0002\n",
            "Epoch 5/30\n",
            " - 2s - loss: 110.6546 - val_loss: 109.0824\n",
            "Epoch 6/30\n",
            " - 2s - loss: 108.8816 - val_loss: 106.5979\n",
            "Epoch 7/30\n",
            " - 2s - loss: 107.5976 - val_loss: 106.5247\n",
            "Epoch 8/30\n",
            " - 2s - loss: 106.6518 - val_loss: 105.7678\n",
            "Epoch 9/30\n",
            " - 2s - loss: 105.8699 - val_loss: 104.8055\n",
            "Epoch 10/30\n",
            " - 2s - loss: 105.2961 - val_loss: 104.2362\n",
            "Epoch 11/30\n",
            " - 2s - loss: 104.7837 - val_loss: 103.5310\n",
            "Epoch 12/30\n",
            " - 2s - loss: 104.4213 - val_loss: 103.7004\n",
            "Epoch 13/30\n",
            " - 2s - loss: 104.0617 - val_loss: 103.1725\n",
            "Epoch 14/30\n",
            " - 2s - loss: 103.7001 - val_loss: 102.8605\n",
            "Epoch 15/30\n",
            " - 2s - loss: 103.4464 - val_loss: 102.9778\n",
            "Epoch 16/30\n",
            " - 3s - loss: 103.2078 - val_loss: 102.8519\n",
            "Epoch 17/30\n",
            " - 2s - loss: 102.9936 - val_loss: 102.3339\n",
            "Epoch 18/30\n",
            " - 3s - loss: 102.8387 - val_loss: 102.3688\n",
            "Epoch 19/30\n",
            " - 2s - loss: 102.6474 - val_loss: 101.9203\n",
            "Epoch 20/30\n",
            " - 2s - loss: 102.4475 - val_loss: 102.4911\n",
            "Epoch 21/30\n",
            " - 3s - loss: 102.2814 - val_loss: 101.8876\n",
            "Epoch 22/30\n",
            " - 2s - loss: 102.1623 - val_loss: 101.6387\n",
            "Epoch 23/30\n",
            " - 3s - loss: 101.9842 - val_loss: 102.2797\n",
            "Epoch 24/30\n",
            " - 2s - loss: 101.9162 - val_loss: 101.4723\n",
            "Epoch 25/30\n",
            " - 3s - loss: 101.7818 - val_loss: 101.1066\n",
            "Epoch 26/30\n",
            " - 2s - loss: 101.6805 - val_loss: 101.4135\n",
            "Epoch 27/30\n",
            " - 2s - loss: 101.5237 - val_loss: 101.2870\n",
            "Epoch 28/30\n",
            " - 2s - loss: 101.4172 - val_loss: 101.0116\n",
            "Epoch 29/30\n",
            " - 2s - loss: 101.4042 - val_loss: 101.5541\n",
            "Epoch 30/30\n",
            " - 2s - loss: 101.2507 - val_loss: 100.9759\n"
          ],
          "name": "stdout"
        }
      ]
    },
    {
      "cell_type": "markdown",
      "metadata": {
        "id": "vweB4rkDOnM5",
        "colab_type": "text"
      },
      "source": [
        "### Visualize reconstructions for train and validation data"
      ]
    },
    {
      "cell_type": "code",
      "metadata": {
        "id": "c2KreOnWOnM6",
        "colab_type": "code",
        "colab": {
          "base_uri": "https://localhost:8080/",
          "height": 591
        },
        "outputId": "a58ce01c-6857-49c2-eba8-c4f84217ee29"
      },
      "source": [
        "fig = plt.figure(figsize=(10, 10))\n",
        "for fid_idx, (x_data, y_data, title) in enumerate(\n",
        "            zip([x_train, x_test], [y_train, y_test], ['Train', 'Validation'])):\n",
        "    n = 10  # figure with 10 x 2 digits\n",
        "    digit_size = 28\n",
        "    figure = np.zeros((digit_size * n, digit_size * 2))\n",
        "    decoded = sess.run(cond_x_decoded_mean,\n",
        "                       feed_dict={x: x_data[:batch_size, :],\n",
        "                                  label: y_data[:batch_size, :]})\n",
        "    for i in range(10):\n",
        "        figure[i * digit_size: (i + 1) * digit_size,\n",
        "               :digit_size] = x_data[i, :].reshape(digit_size, digit_size)\n",
        "        figure[i * digit_size: (i + 1) * digit_size,\n",
        "               digit_size:] = decoded[i, :].reshape(digit_size, digit_size)\n",
        "    ax = fig.add_subplot(1, 2, fid_idx + 1)\n",
        "    ax.imshow(figure, cmap='Greys_r')\n",
        "    ax.set_title(title)\n",
        "    ax.axis('off')\n",
        "plt.show()"
      ],
      "execution_count": 144,
      "outputs": [
        {
          "output_type": "display_data",
          "data": {
            "image/png": "[encoded data removed]",
            "text/plain": [
              "<Figure size 720x720 with 2 Axes>"
            ]
          },
          "metadata": {
            "tags": []
          }
        }
      ]
    },
    {
      "cell_type": "markdown",
      "metadata": {
        "id": "qYZ0_FiQOnM8",
        "colab_type": "text"
      },
      "source": [
        "## Conditionally hallucinate data\n",
        "**Task 5.2** Implement the conditional sampling from the distribution $p(x \\mid t, \\text{label})$ by firstly sampling from the prior $p(t)$ and then sampling from the likelihood $p(x \\mid t, \\text{label})$."
      ]
    },
    {
      "cell_type": "code",
      "metadata": {
        "id": "5f6pIbveOnM-",
        "colab_type": "code",
        "colab": {}
      },
      "source": [
        "# Prepare one hot labels of form\n",
        "#   0 0 0 0 0 1 1 1 1 1 2 2 2 2 2 ...\n",
        "# to sample five zeros, five ones, etc\n",
        "curr_labels = np.eye(10)\n",
        "curr_labels = np.repeat(curr_labels, 5, axis=0)  # Its shape is 50 x 10.\n",
        "# YOUR CODE HERE.\n",
        "# ...\n",
        "# cond_sampled_im_mean is a tf.Tensor of size 50 x 784 with 5 random zeros,\n",
        "# then 5 random ones, etc sampled from the cvae model.\n",
        "cond_sampled_im_mean = cond_decoder(concatenate([tf.random_normal((50,latent_dim)), tf.convert_to_tensor(curr_labels, dtype=tf.float32)]))"
      ],
      "execution_count": 0,
      "outputs": []
    },
    {
      "cell_type": "code",
      "metadata": {
        "id": "S9DKAL2xOnNA",
        "colab_type": "code",
        "colab": {
          "base_uri": "https://localhost:8080/",
          "height": 574
        },
        "outputId": "96724be6-30f2-49e6-db43-245a9e43dc18"
      },
      "source": [
        "cond_sampled_im_mean_np = sess.run(cond_sampled_im_mean)\n",
        "# Show the sampled images.\n",
        "plt.figure(figsize=(10, 10))\n",
        "global_idx = 0\n",
        "for digit in range(10):\n",
        "    for _ in range(5):\n",
        "        ax = plt.subplot(10, 5, global_idx + 1)\n",
        "        plt.imshow(cond_sampled_im_mean_np[global_idx, :].reshape(28, 28), cmap='gray')\n",
        "        ax.axis('off')\n",
        "        global_idx += 1\n",
        "plt.show()"
      ],
      "execution_count": 146,
      "outputs": [
        {
          "output_type": "display_data",
          "data": {
            "image/png": "[encoded data removed]",
            "text/plain": [
              "<Figure size 720x720 with 50 Axes>"
            ]
          },
          "metadata": {
            "tags": []
          }
        }
      ]
    },
    {
      "cell_type": "code",
      "metadata": {
        "id": "qyz9NleMOnNC",
        "colab_type": "code",
        "colab": {
          "base_uri": "https://localhost:8080/",
          "height": 54
        },
        "outputId": "c437f128-6ead-4b37-881b-dfc1bde7638e"
      },
      "source": [
        "# Submit Task 5 (both 5.1 and 5.2).\n",
        "grader.submit_conditional_hallucinating(sess, cond_sampled_im_mean)"
      ],
      "execution_count": 147,
      "outputs": [
        {
          "output_type": "stream",
          "text": [
            "Current answer for task 5.1 (conditional hallucinating mean) is: 0.09151078065024629\n",
            "Current answer for task 5.2 (conditional hallucinating var) is: 0.04202358885542557\n"
          ],
          "name": "stdout"
        }
      ]
    },
    {
      "cell_type": "markdown",
      "metadata": {
        "id": "zMoVsQogOnNF",
        "colab_type": "text"
      },
      "source": [
        "# Authorization & Submission\n",
        "To submit assignment parts to Cousera platform, please, enter your e-mail and token into variables below. You can generate a token on this programming assignment's page. <b>Note:</b> The token expires 30 minutes after generation."
      ]
    },
    {
      "cell_type": "code",
      "metadata": {
        "id": "Pz5iFHZoOnNG",
        "colab_type": "code",
        "colab": {
          "base_uri": "https://localhost:8080/",
          "height": 182
        },
        "outputId": "a0a05d56-e615-4b78-9d01-921324003bf6"
      },
      "source": [
        "STUDENT_EMAIL = 'tej_pratap@hotmail.com' # EMAIL HERE\n",
        "STUDENT_TOKEN = 'X36gNiDg7elhuoMf' # TOKEN HERE\n",
        "grader.status()"
      ],
      "execution_count": 152,
      "outputs": [
        {
          "output_type": "stream",
          "text": [
            "You want to submit these numbers:\n",
            "Task 1 (vlb): 157.59676\n",
            "Task 2.1 (samples mean): -0.11949712\n",
            "Task 2.2 (samples var): 0.0363119\n",
            "Task 3 (best val loss): 104.76454490661621\n",
            "Task 4.1 (hallucinating mean): 0.09851146\n",
            "Task 4.2 (hallucinating var): 0.16355102\n",
            "Task 5.1 (conditional hallucinating mean): 0.09151078065024629\n",
            "Task 5.2 (conditional hallucinating var): 0.04202358885542557\n"
          ],
          "name": "stdout"
        }
      ]
    },
    {
      "cell_type": "code",
      "metadata": {
        "id": "dPjLc1JpOnNL",
        "colab_type": "code",
        "colab": {
          "base_uri": "https://localhost:8080/",
          "height": 35
        },
        "outputId": "5ed179da-c74e-4563-c7ff-8c902ad854c7"
      },
      "source": [
        "grader.submit(STUDENT_EMAIL, STUDENT_TOKEN)"
      ],
      "execution_count": 153,
      "outputs": [
        {
          "output_type": "stream",
          "text": [
            "Submitted to Coursera platform. See results on assignment page!\n"
          ],
          "name": "stdout"
        }
      ]
    },
    {
      "cell_type": "markdown",
      "metadata": {
        "id": "0GPFxR6cOnNV",
        "colab_type": "text"
      },
      "source": [
        "# Playtime (UNGRADED)\n",
        "Once you passed all the tests, modify the code above to work with the mixture of Gaussian distributions (in contrast to the mixture of Binomial distributions), and redo the experiments with CIFAR-10 dataset, which are full-color natural images with much more diverse structure."
      ]
    },
    {
      "cell_type": "code",
      "metadata": {
        "id": "W-Gv4MoqOnNW",
        "colab_type": "code",
        "colab": {}
      },
      "source": [
        "from keras.datasets import cifar10\n",
        "(x_train, y_train), (x_test, y_test) = cifar10.load_data()"
      ],
      "execution_count": 0,
      "outputs": []
    },
    {
      "cell_type": "code",
      "metadata": {
        "id": "YlMJkjGcOnNa",
        "colab_type": "code",
        "colab": {
          "base_uri": "https://localhost:8080/",
          "height": 266
        },
        "outputId": "05ecfa40-50ce-4560-8f67-fce98cad18fb"
      },
      "source": [
        "plt.imshow(x_train[7, :])\n",
        "plt.show()"
      ],
      "execution_count": 151,
      "outputs": [
        {
          "output_type": "display_data",
          "data": {
            "image/png": "[encoded data removed]",
            "text/plain": [
              "<Figure size 432x288 with 1 Axes>"
            ]
          },
          "metadata": {
            "tags": []
          }
        }
      ]
    },
    {
      "cell_type": "code",
      "metadata": {
        "id": "q98v82S7OnNd",
        "colab_type": "code",
        "colab": {}
      },
      "source": [
        ""
      ],
      "execution_count": 0,
      "outputs": []
    }
  ]
}